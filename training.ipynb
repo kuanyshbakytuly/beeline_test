{
 "cells": [
  {
   "cell_type": "code",
   "execution_count": null,
   "metadata": {
    "colab": {
     "base_uri": "https://localhost:8080/"
    },
    "id": "vFLrNFFZfoMX",
    "outputId": "627fc0cc-5cce-4b3b-f49a-a51969d6f001"
   },
   "outputs": [
    {
     "name": "stdout",
     "output_type": "stream",
     "text": [
      "Drive already mounted at /content/drive; to attempt to forcibly remount, call drive.mount(\"/content/drive\", force_remount=True).\n"
     ]
    }
   ],
   "source": [
    "# from google.colab import drive\n",
    "# drive.mount('/content/drive')"
   ]
  },
  {
   "cell_type": "code",
   "execution_count": 155,
   "metadata": {
    "colab": {
     "base_uri": "https://localhost:8080/"
    },
    "collapsed": true,
    "id": "IJ-I1VIYfzSC",
    "outputId": "b11efaa1-8251-40c3-fb87-ca321c06011b"
   },
   "outputs": [
    {
     "name": "stdout",
     "output_type": "stream",
     "text": [
      "Requirement already satisfied: torchsummary in /usr/local/lib/python3.10/dist-packages (1.5.1)\n",
      "Requirement already satisfied: onnx in /usr/local/lib/python3.10/dist-packages (1.17.0)\n",
      "Requirement already satisfied: numpy>=1.20 in /usr/local/lib/python3.10/dist-packages (from onnx) (1.26.4)\n",
      "Requirement already satisfied: protobuf>=3.20.2 in /usr/local/lib/python3.10/dist-packages (from onnx) (3.20.3)\n",
      "Requirement already satisfied: onnxscript in /usr/local/lib/python3.10/dist-packages (0.1.0.dev20241110)\n",
      "Requirement already satisfied: numpy in /usr/local/lib/python3.10/dist-packages (from onnxscript) (1.26.4)\n",
      "Requirement already satisfied: onnx>=1.16 in /usr/local/lib/python3.10/dist-packages (from onnxscript) (1.17.0)\n",
      "Requirement already satisfied: typing-extensions in /usr/local/lib/python3.10/dist-packages (from onnxscript) (4.12.2)\n",
      "Requirement already satisfied: ml-dtypes in /usr/local/lib/python3.10/dist-packages (from onnxscript) (0.4.1)\n",
      "Requirement already satisfied: packaging in /usr/local/lib/python3.10/dist-packages (from onnxscript) (24.1)\n",
      "Requirement already satisfied: protobuf>=3.20.2 in /usr/local/lib/python3.10/dist-packages (from onnx>=1.16->onnxscript) (3.20.3)\n",
      "Requirement already satisfied: onnxruntime in /usr/local/lib/python3.10/dist-packages (1.20.0)\n",
      "Requirement already satisfied: coloredlogs in /usr/local/lib/python3.10/dist-packages (from onnxruntime) (15.0.1)\n",
      "Requirement already satisfied: flatbuffers in /usr/local/lib/python3.10/dist-packages (from onnxruntime) (24.3.25)\n",
      "Requirement already satisfied: numpy>=1.21.6 in /usr/local/lib/python3.10/dist-packages (from onnxruntime) (1.26.4)\n",
      "Requirement already satisfied: packaging in /usr/local/lib/python3.10/dist-packages (from onnxruntime) (24.1)\n",
      "Requirement already satisfied: protobuf in /usr/local/lib/python3.10/dist-packages (from onnxruntime) (3.20.3)\n",
      "Requirement already satisfied: sympy in /usr/local/lib/python3.10/dist-packages (from onnxruntime) (1.13.1)\n",
      "Requirement already satisfied: humanfriendly>=9.1 in /usr/local/lib/python3.10/dist-packages (from coloredlogs->onnxruntime) (10.0)\n",
      "Requirement already satisfied: mpmath<1.4,>=1.1.0 in /usr/local/lib/python3.10/dist-packages (from sympy->onnxruntime) (1.3.0)\n"
     ]
    }
   ],
   "source": [
    "!pip install torchsummary\n",
    "!pip install onnx\n",
    "!pip install onnxscript\n",
    "!pip install onnxruntime"
   ]
  },
  {
   "cell_type": "code",
   "execution_count": 156,
   "metadata": {
    "colab": {
     "base_uri": "https://localhost:8080/"
    },
    "id": "HCfRdFeDbr3Q",
    "outputId": "35c6a336-ed1d-4130-ed10-466f7d9fb106"
   },
   "outputs": [
    {
     "name": "stderr",
     "output_type": "stream",
     "text": [
      "\u001b[34m\u001b[1mwandb\u001b[0m: \u001b[33mWARNING\u001b[0m Calling wandb.login() after wandb.init() has no effect.\n"
     ]
    },
    {
     "data": {
      "text/plain": [
       "True"
      ]
     },
     "execution_count": 156,
     "metadata": {},
     "output_type": "execute_result"
    }
   ],
   "source": [
    "import wandb\n",
    "wandb.login()"
   ]
  },
  {
   "cell_type": "code",
   "execution_count": 157,
   "metadata": {
    "id": "SJ94OQmgHiRT"
   },
   "outputs": [],
   "source": [
    "import os\n",
    "import torch\n",
    "import torch.nn as nn\n",
    "import torch.nn.functional as F\n",
    "from torch import optim\n",
    "from torch.utils.data import DataLoader, Dataset, random_split\n",
    "import torchvision\n",
    "from torchvision import transforms, models, datasets\n",
    "from glob import glob\n",
    "import numpy as np\n",
    "import cv2\n",
    "import pandas as pd\n",
    "import matplotlib.pyplot as plt\n",
    "from sklearn.metrics import confusion_matrix\n",
    "import seaborn as sns\n",
    "from PIL import Image\n",
    "from torchsummary import summary\n",
    "import torchmetrics\n",
    "from tqdm import tqdm\n",
    "from torch.optim.lr_scheduler import StepLR, ReduceLROnPlateau\n",
    "import onnx\n",
    "import onnxruntime\n",
    "#from google.colab.patches import cv2_imshow\n",
    "\n",
    "device = 'cuda' if torch.cuda.is_available() else 'cpu'"
   ]
  },
  {
   "cell_type": "code",
   "execution_count": 158,
   "metadata": {
    "id": "ARNAGaSNJzHd"
   },
   "outputs": [],
   "source": [
    "class CustomDataset(Dataset):\n",
    "\n",
    "    def __init__(self, folder, data, transform = None):\n",
    "\n",
    "        self.transform = transform\n",
    "        self.folder = folder\n",
    "        self.data = data\n",
    "        self.fpaths = [i for i in sorted(glob(f\"{self.folder}/{self.data}/*.jpg\"))]\n",
    "        from random import shuffle, seed; seed(10); shuffle(self.fpaths)\n",
    "        self.targets = [fpath.split('/')[-1].split('_')[0] for fpath in self.fpaths]\n",
    "        self.targets = ['0' if len(i) != 1 else i for i in self.targets]\n",
    "\n",
    "    def __len__(self):\n",
    "        return len(self.fpaths)\n",
    "\n",
    "    def __getitem__(self, idx):\n",
    "\n",
    "        f = self.fpaths[idx]\n",
    "        target = int(self.targets[idx])\n",
    "        im = Image.open(f)\n",
    "        im = self.transform(im)\n",
    "        return im, target\n",
    "\n",
    "class Identity():\n",
    "    def __call__(self, im):\n",
    "        return im\n",
    "\n",
    "def make_transform(is_train = True):\n",
    "    resnet_mean = [0.485, 0.456, 0.406]\n",
    "    resnet_std = [0.229, 0.224, 0.225]\n",
    "    resnet_transform = transforms.Compose([\n",
    "        transforms.RandomHorizontalFlip() if is_train else Identity(),\n",
    "        transforms.Resize((224, 224)),\n",
    "        transforms.ToTensor(),\n",
    "        transforms.Normalize(mean=resnet_mean, std=resnet_std)\n",
    "    ])\n",
    "    return resnet_transform"
   ]
  },
  {
   "cell_type": "code",
   "execution_count": 159,
   "metadata": {
    "id": "0Dd2V3deNaPZ"
   },
   "outputs": [],
   "source": [
    "def get_dls(train_data, test_data, batch_size, ns = 4):\n",
    "    train_dl = DataLoader(train_data, batch_size = batch_size, shuffle = True, num_workers = ns)\n",
    "    val_dl = DataLoader(test_data, batch_size = batch_size, shuffle = True, num_workers = ns)\n",
    "\n",
    "    return train_dl, val_dl"
   ]
  },
  {
   "cell_type": "code",
   "execution_count": null,
   "metadata": {
    "colab": {
     "base_uri": "https://localhost:8080/"
    },
    "id": "h5jEC-SkNuwy",
    "outputId": "c5edc9d7-5e21-4737-f8a7-778ec5d6f37f"
   },
   "outputs": [
    {
     "name": "stderr",
     "output_type": "stream",
     "text": [
      "/usr/local/lib/python3.10/dist-packages/torch/utils/data/dataloader.py:617: UserWarning: This DataLoader will create 4 worker processes in total. Our suggested max number of worker in current system is 2, which is smaller than what this DataLoader is going to create. Please be aware that excessive worker creation might get DataLoader running slow or even freeze, lower the worker number to avoid potential slowness/freeze if necessary.\n",
      "  warnings.warn(\n"
     ]
    }
   ],
   "source": [
    "folder = \"/content\" #Folder to Dataset\n",
    "batch_size = 32\n",
    "train_data = CustomDataset(folder = folder, data = \"train\", transform = make_transform(is_train=True))\n",
    "test_data = CustomDataset(folder = folder, data = \"test\", transform = make_transform(is_train=False))\n",
    "train_dl, val_dl = get_dls(train_data, test_data, batch_size = 32)"
   ]
  },
  {
   "cell_type": "code",
   "execution_count": 161,
   "metadata": {
    "colab": {
     "base_uri": "https://localhost:8080/",
     "height": 469
    },
    "id": "c8YVXDD5RV_f",
    "outputId": "7c75667d-9c31-4730-9efe-7b7b15d9dd91"
   },
   "outputs": [
    {
     "name": "stderr",
     "output_type": "stream",
     "text": [
      "WARNING:matplotlib.image:Clipping input data to the valid range for imshow with RGB data ([0..1] for floats or [0..255] for integers).\n"
     ]
    },
    {
     "name": "stdout",
     "output_type": "stream",
     "text": [
      "1\n"
     ]
    },
    {
     "data": {
      "image/png": "[encoded data removed]",
      "text/plain": [
       "<Figure size 640x480 with 1 Axes>"
      ]
     },
     "metadata": {},
     "output_type": "display_data"
    }
   ],
   "source": [
    "im, gt = train_dl.dataset[0]\n",
    "plt.imshow(im.permute(1,2,0).cpu())\n",
    "print(gt)"
   ]
  },
  {
   "cell_type": "code",
   "execution_count": 162,
   "metadata": {
    "colab": {
     "base_uri": "https://localhost:8080/"
    },
    "id": "qv3v-tMV1D0z",
    "outputId": "3a58645d-f9e1-41a8-8c45-19a6db819c1b"
   },
   "outputs": [
    {
     "name": "stdout",
     "output_type": "stream",
     "text": [
      "[5.790137614678899, 4.005553351844506, 3.1331058020477816, 3.8689655172413793]\n"
     ]
    }
   ],
   "source": [
    "target = train_data.targets\n",
    "sum = len(train_data.targets)\n",
    "classes = set(target)\n",
    "weights = []\n",
    "for i in classes:\n",
    "  weights.append(sum/target.count(i))\n",
    "print(weights)"
   ]
  },
  {
   "cell_type": "code",
   "execution_count": 163,
   "metadata": {
    "colab": {
     "base_uri": "https://localhost:8080/"
    },
    "id": "LtCjvnhe3O5L",
    "outputId": "a480348f-cd33-4c8e-ff50-925675eb3b28"
   },
   "outputs": [
    {
     "name": "stderr",
     "output_type": "stream",
     "text": [
      "/usr/local/lib/python3.10/dist-packages/torchvision/models/_utils.py:208: UserWarning: The parameter 'pretrained' is deprecated since 0.13 and may be removed in the future, please use 'weights' instead.\n",
      "  warnings.warn(\n",
      "/usr/local/lib/python3.10/dist-packages/torchvision/models/_utils.py:223: UserWarning: Arguments other than a weight enum or `None` for 'weights' are deprecated since 0.13 and may be removed in the future. The current behavior is equivalent to passing `weights=ResNet18_Weights.IMAGENET1K_V1`. You can also use `weights=ResNet18_Weights.DEFAULT` to get the most up-to-date weights.\n",
      "  warnings.warn(msg)\n"
     ]
    }
   ],
   "source": [
    "# @title Resnet18\n",
    "class Model(nn.Module):\n",
    "     def __init__(self, num_classes):\n",
    "         super().__init__()\n",
    "         self.network = models.resnet18(pretrained=True)\n",
    "         number_of_features = self.network.fc.in_features\n",
    "         self.network.fc = nn.Linear(number_of_features, num_classes)\n",
    "\n",
    "     def forward(self, xb):\n",
    "         return self.network(xb)\n",
    "\n",
    "     def freeze(self):\n",
    "         for param in self.network.parameters():\n",
    "             param.requires_grad= False\n",
    "         for param in self.network.fc.parameters():\n",
    "             param.requires_grad= True\n",
    "\n",
    "     def unfreeze(self):\n",
    "         for param in self.network.parameters():\n",
    "            param.requires_grad= True\n",
    "\n",
    "model=Model(4).to(device)"
   ]
  },
  {
   "cell_type": "code",
   "execution_count": 164,
   "metadata": {
    "id": "UmqIScGX5J1I"
   },
   "outputs": [],
   "source": [
    "epochs = 100\n",
    "lr = 1e-4\n",
    "loss_fn = torch.nn.CrossEntropyLoss(weight=torch.tensor(weights)).to(device)\n",
    "optimizer = torch.optim.AdamW(params=model.parameters(), lr=lr)"
   ]
  },
  {
   "cell_type": "code",
   "execution_count": 165,
   "metadata": {
    "colab": {
     "base_uri": "https://localhost:8080/",
     "height": 452,
     "referenced_widgets": [
      "3000b8568ef14a20afeac9a7666d78ea",
      "54f66604b45a407c8c6230256b070821",
      "6dcaaa89efc5465cab12f8286f4be8d9",
      "93ac7d2d7cea4a739ade87455315611e",
      "529eaa25bb904a50aeb7edba4c917b50",
      "d9120e3c649342d48ca9a99b8126a10a",
      "8a5264f7afa44004a66b71f284df765e",
      "5646ca633d944f90a04f20a6447f7130"
     ]
    },
    "id": "Jt-HrVKMLppm",
    "outputId": "6d5070f6-a8f7-4307-a0a2-090660584206"
   },
   "outputs": [
    {
     "data": {
      "text/html": [
       "Finishing last run (ID:171ngyzn) before initializing another..."
      ],
      "text/plain": [
       "<IPython.core.display.HTML object>"
      ]
     },
     "metadata": {},
     "output_type": "display_data"
    },
    {
     "data": {
      "application/vnd.jupyter.widget-view+json": {
       "model_id": "3000b8568ef14a20afeac9a7666d78ea",
       "version_major": 2,
       "version_minor": 0
      },
      "text/plain": [
       "VBox(children=(Label(value='0.011 MB of 0.011 MB uploaded\\r'), FloatProgress(value=1.0, max=1.0)))"
      ]
     },
     "metadata": {},
     "output_type": "display_data"
    },
    {
     "data": {
      "text/html": [
       "<style>\n",
       "    table.wandb td:nth-child(1) { padding: 0 10px; text-align: left ; width: auto;} td:nth-child(2) {text-align: left ; width: 100%}\n",
       "    .wandb-row { display: flex; flex-direction: row; flex-wrap: wrap; justify-content: flex-start; width: 100% }\n",
       "    .wandb-col { display: flex; flex-direction: column; flex-basis: 100%; flex: 1; padding: 10px; }\n",
       "    </style>\n",
       "<div class=\"wandb-row\"><div class=\"wandb-col\"><h3>Run history:</h3><br/><table class=\"wandb\"><tr><td>train_acc</td><td>▁▃▄▅▆▆▇▇▇▇█▇█████████████</td></tr><tr><td>train_f1</td><td>▁▃▄▅▆▆▇▇▇▇█▇█████████████</td></tr><tr><td>train_loss</td><td>█▆▅▄▃▃▂▂▂▂▂▂▁▁▁▁▁▁▁▁▁▁▁▁▁</td></tr><tr><td>val_acc</td><td>▁▃▄▅▆▃▅▄▇▆▇▇▅▆▆█▅█▇▆▆▅▅▇▇</td></tr><tr><td>val_f1</td><td>▂▃▃▄▅▂▂▃▇▆▅▇▄▆▇█▁█▆▇▂▄▃▇▇</td></tr><tr><td>val_loss</td><td>▃▂▃▂▃▃▅▂▁▂▂▁▄▃▂▁█▁▆▃▆▄▆▂▂</td></tr></table><br/></div><div class=\"wandb-col\"><h3>Run summary:</h3><br/><table class=\"wandb\"><tr><td>train_acc</td><td>0.99346</td></tr><tr><td>train_f1</td><td>0.99347</td></tr><tr><td>train_loss</td><td>0.02022</td></tr><tr><td>val_acc</td><td>0.89216</td></tr><tr><td>val_f1</td><td>0.91406</td></tr><tr><td>val_loss</td><td>0.39553</td></tr></table><br/></div></div>"
      ],
      "text/plain": [
       "<IPython.core.display.HTML object>"
      ]
     },
     "metadata": {},
     "output_type": "display_data"
    },
    {
     "data": {
      "text/html": [
       " View run <strong style=\"color:#cdcd00\">exalted-totem-4</strong> at: <a href='https://wandb.ai/relive-face/Beeline%20%D0%A2%D0%97/runs/171ngyzn' target=\"_blank\">https://wandb.ai/relive-face/Beeline%20%D0%A2%D0%97/runs/171ngyzn</a><br/> View project at: <a href='https://wandb.ai/relive-face/Beeline%20%D0%A2%D0%97' target=\"_blank\">https://wandb.ai/relive-face/Beeline%20%D0%A2%D0%97</a><br/>Synced 5 W&B file(s), 0 media file(s), 0 artifact file(s) and 0 other file(s)"
      ],
      "text/plain": [
       "<IPython.core.display.HTML object>"
      ]
     },
     "metadata": {},
     "output_type": "display_data"
    },
    {
     "data": {
      "text/html": [
       "Find logs at: <code>./wandb/run-20241110_224506-171ngyzn/logs</code>"
      ],
      "text/plain": [
       "<IPython.core.display.HTML object>"
      ]
     },
     "metadata": {},
     "output_type": "display_data"
    },
    {
     "data": {
      "text/html": [
       "Successfully finished last run (ID:171ngyzn). Initializing new run:<br/>"
      ],
      "text/plain": [
       "<IPython.core.display.HTML object>"
      ]
     },
     "metadata": {},
     "output_type": "display_data"
    },
    {
     "data": {
      "text/html": [
       "Tracking run with wandb version 0.18.5"
      ],
      "text/plain": [
       "<IPython.core.display.HTML object>"
      ]
     },
     "metadata": {},
     "output_type": "display_data"
    },
    {
     "data": {
      "text/html": [
       "Run data is saved locally in <code>/content/wandb/run-20241110_231924-ombdv6m7</code>"
      ],
      "text/plain": [
       "<IPython.core.display.HTML object>"
      ]
     },
     "metadata": {},
     "output_type": "display_data"
    },
    {
     "data": {
      "text/html": [
       "Syncing run <strong><a href='https://wandb.ai/relive-face/Beeline%20%D0%A2%D0%97/runs/ombdv6m7' target=\"_blank\">iconic-armadillo-5</a></strong> to <a href='https://wandb.ai/relive-face/Beeline%20%D0%A2%D0%97' target=\"_blank\">Weights & Biases</a> (<a href='https://wandb.me/run' target=\"_blank\">docs</a>)<br/>"
      ],
      "text/plain": [
       "<IPython.core.display.HTML object>"
      ]
     },
     "metadata": {},
     "output_type": "display_data"
    },
    {
     "data": {
      "text/html": [
       " View project at <a href='https://wandb.ai/relive-face/Beeline%20%D0%A2%D0%97' target=\"_blank\">https://wandb.ai/relive-face/Beeline%20%D0%A2%D0%97</a>"
      ],
      "text/plain": [
       "<IPython.core.display.HTML object>"
      ]
     },
     "metadata": {},
     "output_type": "display_data"
    },
    {
     "data": {
      "text/html": [
       " View run at <a href='https://wandb.ai/relive-face/Beeline%20%D0%A2%D0%97/runs/ombdv6m7' target=\"_blank\">https://wandb.ai/relive-face/Beeline%20%D0%A2%D0%97/runs/ombdv6m7</a>"
      ],
      "text/plain": [
       "<IPython.core.display.HTML object>"
      ]
     },
     "metadata": {},
     "output_type": "display_data"
    },
    {
     "data": {
      "text/html": [
       "<button onClick=\"this.nextSibling.style.display='block';this.style.display='none';\">Display W&B run</button><iframe src='https://wandb.ai/relive-face/Beeline%20%D0%A2%D0%97/runs/ombdv6m7?jupyter=true' style='border:none;width:100%;height:420px;display:none;'></iframe>"
      ],
      "text/plain": [
       "<wandb.sdk.wandb_run.Run at 0x7b0f58b3dc60>"
      ]
     },
     "execution_count": 165,
     "metadata": {},
     "output_type": "execute_result"
    }
   ],
   "source": [
    "# @title Wandb\n",
    "wandb.init(    # set the wandb project where this run will be logged\n",
    "    project=\"Beeline ТЗ\",\n",
    "    # track hyperparameters and run metadata\n",
    "    config={\n",
    "        \"dataset\": \"Beeline\",\n",
    "        \"classes\": len(classes),\n",
    "        \"architecture\": \"Resnet18\",\n",
    "        \"learning_rate\": lr,\n",
    "        \"epochs\": epochs,\n",
    "        \"batch_size\": batch_size,\n",
    "        'criterion': 'CrossEntropyLoss',\n",
    "        'optimizer': 'AdamW',\n",
    "        \"image_size\": 224,\n",
    "        \"train\": len(train_dl),\n",
    "        'valid': len(val_dl),\n",
    "        \"params\": '2,857,476',\n",
    "        \"size_MB\": '450.94',\n",
    "    })"
   ]
  },
  {
   "cell_type": "code",
   "execution_count": 166,
   "metadata": {
    "colab": {
     "base_uri": "https://localhost:8080/"
    },
    "id": "6JPVcQ9H4nUd",
    "outputId": "6fd291e9-f6be-441c-c043-3289044fba50"
   },
   "outputs": [
    {
     "name": "stdout",
     "output_type": "stream",
     "text": [
      "--------------------- Epoch: 0 ----------------------\n"
     ]
    },
    {
     "name": "stderr",
     "output_type": "stream",
     "text": [
      "/usr/local/lib/python3.10/dist-packages/torch/optim/lr_scheduler.py:62: UserWarning: The verbose parameter is deprecated. Please use get_last_lr() to access the learning rate.\n",
      "  warnings.warn(\n",
      "100%|██████████| 316/316 [00:48<00:00,  6.57it/s]"
     ]
    },
    {
     "name": "stdout",
     "output_type": "stream",
     "text": [
      "train_loss  - 0.740\n",
      "train_acc   - 0.654\n",
      "epoch train_f1    - 0.653\n"
     ]
    },
    {
     "name": "stderr",
     "output_type": "stream",
     "text": [
      "\n"
     ]
    },
    {
     "name": "stdout",
     "output_type": "stream",
     "text": [
      "val_loss  - 0.650\n",
      "val_acc   - 0.716\n",
      "val_f1    - 0.638\n",
      "------------------------------------------------------\n",
      "--------------------- Epoch: 1 ----------------------\n"
     ]
    },
    {
     "name": "stderr",
     "output_type": "stream",
     "text": [
      "100%|██████████| 316/316 [00:39<00:00,  8.03it/s]"
     ]
    },
    {
     "name": "stdout",
     "output_type": "stream",
     "text": [
      "train_loss  - 0.531\n",
      "train_acc   - 0.752\n",
      "epoch train_f1    - 0.752\n"
     ]
    },
    {
     "name": "stderr",
     "output_type": "stream",
     "text": [
      "\n"
     ]
    },
    {
     "name": "stdout",
     "output_type": "stream",
     "text": [
      "val_loss  - 0.477\n",
      "val_acc   - 0.775\n",
      "val_f1    - 0.786\n",
      "------------------------------------------------------\n",
      "--------------------- Epoch: 2 ----------------------\n"
     ]
    },
    {
     "name": "stderr",
     "output_type": "stream",
     "text": [
      "100%|██████████| 316/316 [00:41<00:00,  7.67it/s]"
     ]
    },
    {
     "name": "stdout",
     "output_type": "stream",
     "text": [
      "train_loss  - 0.424\n",
      "train_acc   - 0.807\n",
      "epoch train_f1    - 0.807\n"
     ]
    },
    {
     "name": "stderr",
     "output_type": "stream",
     "text": [
      "\n"
     ]
    },
    {
     "name": "stdout",
     "output_type": "stream",
     "text": [
      "val_loss  - 0.423\n",
      "val_acc   - 0.824\n",
      "val_f1    - 0.826\n",
      "------------------------------------------------------\n",
      "--------------------- Epoch: 3 ----------------------\n"
     ]
    },
    {
     "name": "stderr",
     "output_type": "stream",
     "text": [
      "100%|██████████| 316/316 [00:40<00:00,  7.89it/s]\n"
     ]
    },
    {
     "name": "stdout",
     "output_type": "stream",
     "text": [
      "train_loss  - 0.326\n",
      "train_acc   - 0.854\n",
      "epoch train_f1    - 0.854\n",
      "val_loss  - 0.373\n",
      "val_acc   - 0.863\n",
      "val_f1    - 0.891\n",
      "------------------------------------------------------\n",
      "--------------------- Epoch: 4 ----------------------\n"
     ]
    },
    {
     "name": "stderr",
     "output_type": "stream",
     "text": [
      "100%|██████████| 316/316 [00:39<00:00,  7.94it/s]"
     ]
    },
    {
     "name": "stdout",
     "output_type": "stream",
     "text": [
      "train_loss  - 0.257\n",
      "train_acc   - 0.889\n",
      "epoch train_f1    - 0.889\n"
     ]
    },
    {
     "name": "stderr",
     "output_type": "stream",
     "text": [
      "\n"
     ]
    },
    {
     "name": "stdout",
     "output_type": "stream",
     "text": [
      "val_loss  - 0.545\n",
      "val_acc   - 0.775\n",
      "val_f1    - 0.753\n",
      "Loss value did not decrease for 1 epochs\n",
      "------------------------------------------------------\n",
      "--------------------- Epoch: 5 ----------------------\n"
     ]
    },
    {
     "name": "stderr",
     "output_type": "stream",
     "text": [
      "100%|██████████| 316/316 [00:39<00:00,  8.01it/s]"
     ]
    },
    {
     "name": "stdout",
     "output_type": "stream",
     "text": [
      "train_loss  - 0.212\n",
      "train_acc   - 0.911\n",
      "epoch train_f1    - 0.911\n"
     ]
    },
    {
     "name": "stderr",
     "output_type": "stream",
     "text": [
      "\n"
     ]
    },
    {
     "name": "stdout",
     "output_type": "stream",
     "text": [
      "val_loss  - 0.345\n",
      "val_acc   - 0.833\n",
      "val_f1    - 0.867\n",
      "------------------------------------------------------\n",
      "--------------------- Epoch: 6 ----------------------\n"
     ]
    },
    {
     "name": "stderr",
     "output_type": "stream",
     "text": [
      "100%|██████████| 316/316 [00:39<00:00,  8.07it/s]"
     ]
    },
    {
     "name": "stdout",
     "output_type": "stream",
     "text": [
      "train_loss  - 0.165\n",
      "train_acc   - 0.934\n",
      "epoch train_f1    - 0.934\n"
     ]
    },
    {
     "name": "stderr",
     "output_type": "stream",
     "text": [
      "\n"
     ]
    },
    {
     "name": "stdout",
     "output_type": "stream",
     "text": [
      "val_loss  - 0.411\n",
      "val_acc   - 0.853\n",
      "val_f1    - 0.849\n",
      "Loss value did not decrease for 1 epochs\n",
      "------------------------------------------------------\n",
      "--------------------- Epoch: 7 ----------------------\n"
     ]
    },
    {
     "name": "stderr",
     "output_type": "stream",
     "text": [
      "100%|██████████| 316/316 [00:38<00:00,  8.27it/s]\n"
     ]
    },
    {
     "name": "stdout",
     "output_type": "stream",
     "text": [
      "train_loss  - 0.121\n",
      "train_acc   - 0.949\n",
      "epoch train_f1    - 0.949\n",
      "val_loss  - 0.269\n",
      "val_acc   - 0.833\n",
      "val_f1    - 0.867\n",
      "------------------------------------------------------\n",
      "--------------------- Epoch: 8 ----------------------\n"
     ]
    },
    {
     "name": "stderr",
     "output_type": "stream",
     "text": [
      "100%|██████████| 316/316 [00:38<00:00,  8.31it/s]\n"
     ]
    },
    {
     "name": "stdout",
     "output_type": "stream",
     "text": [
      "train_loss  - 0.122\n",
      "train_acc   - 0.950\n",
      "epoch train_f1    - 0.950\n",
      "val_loss  - 0.304\n",
      "val_acc   - 0.863\n",
      "val_f1    - 0.891\n",
      "Loss value did not decrease for 1 epochs\n",
      "------------------------------------------------------\n",
      "--------------------- Epoch: 9 ----------------------\n"
     ]
    },
    {
     "name": "stderr",
     "output_type": "stream",
     "text": [
      "100%|██████████| 316/316 [00:38<00:00,  8.28it/s]"
     ]
    },
    {
     "name": "stdout",
     "output_type": "stream",
     "text": [
      "train_loss  - 0.095\n",
      "train_acc   - 0.963\n",
      "epoch train_f1    - 0.963\n"
     ]
    },
    {
     "name": "stderr",
     "output_type": "stream",
     "text": [
      "\n"
     ]
    },
    {
     "name": "stdout",
     "output_type": "stream",
     "text": [
      "val_loss  - 0.475\n",
      "val_acc   - 0.843\n",
      "val_f1    - 0.807\n",
      "Loss value did not decrease for 2 epochs\n",
      "------------------------------------------------------\n",
      "--------------------- Epoch: 10 ----------------------\n"
     ]
    },
    {
     "name": "stderr",
     "output_type": "stream",
     "text": [
      "100%|██████████| 316/316 [00:38<00:00,  8.30it/s]"
     ]
    },
    {
     "name": "stdout",
     "output_type": "stream",
     "text": [
      "train_loss  - 0.095\n",
      "train_acc   - 0.964\n",
      "epoch train_f1    - 0.964\n"
     ]
    },
    {
     "name": "stderr",
     "output_type": "stream",
     "text": [
      "\n"
     ]
    },
    {
     "name": "stdout",
     "output_type": "stream",
     "text": [
      "val_loss  - 0.511\n",
      "val_acc   - 0.853\n",
      "val_f1    - 0.849\n",
      "Loss value did not decrease for 3 epochs\n",
      "------------------------------------------------------\n",
      "--------------------- Epoch: 11 ----------------------\n"
     ]
    },
    {
     "name": "stderr",
     "output_type": "stream",
     "text": [
      "100%|██████████| 316/316 [00:38<00:00,  8.27it/s]"
     ]
    },
    {
     "name": "stdout",
     "output_type": "stream",
     "text": [
      "train_loss  - 0.071\n",
      "train_acc   - 0.975\n",
      "epoch train_f1    - 0.975\n"
     ]
    },
    {
     "name": "stderr",
     "output_type": "stream",
     "text": [
      "\n"
     ]
    },
    {
     "name": "stdout",
     "output_type": "stream",
     "text": [
      "val_loss  - 0.476\n",
      "val_acc   - 0.843\n",
      "val_f1    - 0.875\n",
      "Loss value did not decrease for 4 epochs\n",
      "------------------------------------------------------\n",
      "--------------------- Epoch: 12 ----------------------\n"
     ]
    },
    {
     "name": "stderr",
     "output_type": "stream",
     "text": [
      "100%|██████████| 316/316 [00:38<00:00,  8.27it/s]"
     ]
    },
    {
     "name": "stdout",
     "output_type": "stream",
     "text": [
      "train_loss  - 0.072\n",
      "train_acc   - 0.972\n",
      "epoch train_f1    - 0.972\n"
     ]
    },
    {
     "name": "stderr",
     "output_type": "stream",
     "text": [
      "\n"
     ]
    },
    {
     "name": "stdout",
     "output_type": "stream",
     "text": [
      "val_loss  - 0.459\n",
      "val_acc   - 0.843\n",
      "val_f1    - 0.875\n",
      "Loss value did not decrease for 5 epochs\n",
      "------------------------------------------------------\n",
      "--------------------- Epoch: 13 ----------------------\n"
     ]
    },
    {
     "name": "stderr",
     "output_type": "stream",
     "text": [
      "100%|██████████| 316/316 [00:38<00:00,  8.25it/s]"
     ]
    },
    {
     "name": "stdout",
     "output_type": "stream",
     "text": [
      "train_loss  - 0.065\n",
      "train_acc   - 0.977\n",
      "epoch train_f1    - 0.977\n"
     ]
    },
    {
     "name": "stderr",
     "output_type": "stream",
     "text": [
      "\n"
     ]
    },
    {
     "name": "stdout",
     "output_type": "stream",
     "text": [
      "val_loss  - 0.520\n",
      "val_acc   - 0.853\n",
      "val_f1    - 0.883\n",
      "Loss value did not decrease for 6 epochs\n",
      "------------------------------------------------------\n",
      "--------------------- Epoch: 14 ----------------------\n"
     ]
    },
    {
     "name": "stderr",
     "output_type": "stream",
     "text": [
      "100%|██████████| 316/316 [00:38<00:00,  8.18it/s]"
     ]
    },
    {
     "name": "stdout",
     "output_type": "stream",
     "text": [
      "train_loss  - 0.058\n",
      "train_acc   - 0.978\n",
      "epoch train_f1    - 0.978\n"
     ]
    },
    {
     "name": "stderr",
     "output_type": "stream",
     "text": [
      "\n"
     ]
    },
    {
     "name": "stdout",
     "output_type": "stream",
     "text": [
      "val_loss  - 0.466\n",
      "val_acc   - 0.843\n",
      "val_f1    - 0.875\n",
      "Loss value did not decrease for 7 epochs\n",
      "------------------------------------------------------\n",
      "--------------------- Epoch: 15 ----------------------\n"
     ]
    },
    {
     "name": "stderr",
     "output_type": "stream",
     "text": [
      "100%|██████████| 316/316 [00:38<00:00,  8.17it/s]"
     ]
    },
    {
     "name": "stdout",
     "output_type": "stream",
     "text": [
      "train_loss  - 0.057\n",
      "train_acc   - 0.979\n",
      "epoch train_f1    - 0.979\n"
     ]
    },
    {
     "name": "stderr",
     "output_type": "stream",
     "text": [
      "\n"
     ]
    },
    {
     "name": "stdout",
     "output_type": "stream",
     "text": [
      "val_loss  - 0.754\n",
      "val_acc   - 0.824\n",
      "val_f1    - 0.724\n",
      "Loss value did not decrease for 8 epochs\n",
      "------------------------------------------------------\n",
      "--------------------- Epoch: 16 ----------------------\n"
     ]
    },
    {
     "name": "stderr",
     "output_type": "stream",
     "text": [
      "100%|██████████| 316/316 [00:38<00:00,  8.16it/s]"
     ]
    },
    {
     "name": "stdout",
     "output_type": "stream",
     "text": [
      "train_loss  - 0.061\n",
      "train_acc   - 0.976\n",
      "epoch train_f1    - 0.976\n"
     ]
    },
    {
     "name": "stderr",
     "output_type": "stream",
     "text": [
      "\n"
     ]
    },
    {
     "name": "stdout",
     "output_type": "stream",
     "text": [
      "val_loss  - 0.618\n",
      "val_acc   - 0.824\n",
      "val_f1    - 0.859\n",
      "Loss value did not decrease for 9 epochs\n",
      "------------------------------------------------------\n",
      "--------------------- Epoch: 17 ----------------------\n"
     ]
    },
    {
     "name": "stderr",
     "output_type": "stream",
     "text": [
      "100%|██████████| 316/316 [00:38<00:00,  8.17it/s]"
     ]
    },
    {
     "name": "stdout",
     "output_type": "stream",
     "text": [
      "train_loss  - 0.059\n",
      "train_acc   - 0.977\n",
      "epoch train_f1    - 0.977\n"
     ]
    },
    {
     "name": "stderr",
     "output_type": "stream",
     "text": [
      "\n"
     ]
    },
    {
     "name": "stdout",
     "output_type": "stream",
     "text": [
      "val_loss  - 0.364\n",
      "val_acc   - 0.873\n",
      "val_f1    - 0.865\n",
      "Loss value did not decrease for 10 epochs\n",
      "Stopping training since loss did not decrease for 10 epochs.\n"
     ]
    }
   ],
   "source": [
    "# @title Train\n",
    "def move_to_device(data_batch, device):\n",
    "    return data_batch[0].to(device), data_batch[1].to(device)\n",
    "\n",
    "def compute_metrics(model, inputs, labels, loss_func, total_loss, total_accuracy, total_f1):\n",
    "    predictions = model.forward(inputs)\n",
    "    loss = loss_func(predictions, labels)\n",
    "    return (\n",
    "        loss,\n",
    "        total_loss + loss.item(),\n",
    "        total_accuracy + (torch.argmax(predictions, dim=1) == labels).sum().item(),\n",
    "        total_f1 + f1_metric(predictions, labels)\n",
    "    )\n",
    "\n",
    "f1_metric = torchmetrics.F1Score(task=\"multiclass\", num_classes=len(classes)).to(device)\n",
    "lr_scheduler = ReduceLROnPlateau(optimizer, mode='min', factor=0.05, patience=2, threshold=0.0001, threshold_mode='rel', cooldown=0, min_lr=0, eps=1e-08, verbose=True)\n",
    "\n",
    "highest_accuracy, lowest_loss = 0, float(\"inf\")\n",
    "no_improve_counter, early_stopping_patience = 0, 10\n",
    "train_losses, validation_losses, train_accuracies, validation_accuracies, train_f1_scores, validation_f1_scores = [], [], [], [], [], []\n",
    "\n",
    "for epoch in range(epochs):\n",
    "    print(f'--------------------- Epoch: {epoch} ----------------------')\n",
    "    model.train()\n",
    "    epoch_train_loss, epoch_train_accuracy, epoch_train_f1 = 0, 0, 0\n",
    "    for idx, data_batch in tqdm(enumerate(train_dl), total=len(train_dl)):\n",
    "        inputs, labels = move_to_device(data_batch, device)\n",
    "\n",
    "        loss, epoch_train_loss, epoch_train_accuracy, epoch_train_f1 = compute_metrics(model, inputs, labels, loss_fn, epoch_train_loss, epoch_train_accuracy, epoch_train_f1)\n",
    "        optimizer.zero_grad()\n",
    "        loss.backward()\n",
    "        optimizer.step()\n",
    "\n",
    "    avg_train_loss = epoch_train_loss / len(train_dl)\n",
    "    avg_train_accuracy = epoch_train_accuracy / len(train_dl.dataset)\n",
    "    avg_train_f1 = epoch_train_f1 / len(train_dl)\n",
    "    train_losses.append(avg_train_loss)\n",
    "    train_accuracies.append(avg_train_accuracy)\n",
    "    train_f1_scores.append(avg_train_f1)\n",
    "\n",
    "    lr_scheduler.step(train_losses[-1])\n",
    "\n",
    "    print(f\"train_loss  - {avg_train_loss:.3f}\")\n",
    "    print(f\"train_acc   - {avg_train_accuracy:.3f}\")\n",
    "    print(f\"epoch train_f1    - {avg_train_f1:.3f}\")\n",
    "\n",
    "    # Validation loop\n",
    "    model.eval()\n",
    "    with torch.no_grad():\n",
    "        val_epoch_loss, val_epoch_accuracy, val_epoch_f1 = 0, 0, 0\n",
    "        for idx, data_batch in enumerate(val_dl):\n",
    "            inputs, labels = move_to_device(data_batch, device)\n",
    "            loss, val_epoch_loss, val_epoch_accuracy, val_epoch_f1 = compute_metrics(model, inputs, labels, loss_fn, val_epoch_loss, val_epoch_accuracy, val_epoch_f1)\n",
    "\n",
    "        avg_val_loss = val_epoch_loss / len(val_dl)\n",
    "        avg_val_accuracy = val_epoch_accuracy / len(val_dl.dataset)\n",
    "        avg_val_f1 = val_epoch_f1 / len(val_dl)\n",
    "        validation_losses.append(avg_val_loss)\n",
    "        validation_accuracies.append(avg_val_accuracy)\n",
    "        validation_f1_scores.append(avg_val_f1)\n",
    "\n",
    "        print(f\"val_loss  - {avg_val_loss:.3f}\")\n",
    "        print(f\"val_acc   - {avg_val_accuracy:.3f}\")\n",
    "        print(f\"val_f1    - {avg_val_f1:.3f}\")\n",
    "\n",
    "        if avg_val_loss < lowest_loss:\n",
    "            lowest_loss = avg_val_loss\n",
    "            torch.save(model.state_dict(), f\"{epoch}_best_model.pth\")\n",
    "            no_improve_counter = 0\n",
    "        else:\n",
    "            no_improve_counter += 1\n",
    "            print(f\"Loss value did not decrease for {no_improve_counter} epochs\")\n",
    "            if no_improve_counter >= early_stopping_patience:\n",
    "                print(f\"Stopping training since loss did not decrease for {early_stopping_patience} epochs.\")\n",
    "                break\n",
    "\n",
    "    wandb.log({\"train_acc\": avg_train_accuracy, \"train_loss\": avg_train_loss, 'train_f1': avg_train_f1, \"val_acc\": avg_val_accuracy, \"val_loss\": avg_val_loss, 'val_f1': avg_val_f1})\n",
    "    print(f'------------------------------------------------------')"
   ]
  },
  {
   "cell_type": "code",
   "execution_count": 167,
   "metadata": {
    "id": "Kkg5aHO369yz"
   },
   "outputs": [],
   "source": [
    "torch.save(model.state_dict(), f\"model.pth\")"
   ]
  },
  {
   "cell_type": "code",
   "execution_count": 168,
   "metadata": {
    "colab": {
     "base_uri": "https://localhost:8080/",
     "height": 718
    },
    "id": "bKLrtDqaRD-S",
    "outputId": "b02cc31e-bf59-44c8-a462-d2645cccd66b"
   },
   "outputs": [
    {
     "data": {
      "image/png": "[encoded data removed]",
      "text/plain": [
       "<Figure size 1000x800 with 2 Axes>"
      ]
     },
     "metadata": {},
     "output_type": "display_data"
    }
   ],
   "source": [
    "# @title Confusion Matrix on Test Data\n",
    "model.eval()\n",
    "\n",
    "all_preds = []\n",
    "all_labels = []\n",
    "\n",
    "with torch.no_grad():\n",
    "    for batch in val_dl:\n",
    "        images, labels = batch[0].to(device), batch[1].to(device)\n",
    "        outputs = model(images)\n",
    "        _, preds = torch.max(outputs, 1)\n",
    "        all_preds.extend(preds.cpu().numpy())\n",
    "        all_labels.extend(labels.cpu().numpy())\n",
    "\n",
    "conf_matrix = confusion_matrix(all_labels, all_preds)\n",
    "\n",
    "plt.figure(figsize=(10, 8))\n",
    "sns.heatmap(conf_matrix, annot=True, fmt=\"d\", cmap=\"Blues\", xticklabels=classes, yticklabels=classes)\n",
    "plt.xlabel(\"Predicted Label\")\n",
    "plt.ylabel(\"True Label\")\n",
    "plt.title(\"Confusion Matrix\")\n",
    "plt.show()"
   ]
  },
  {
   "cell_type": "code",
   "execution_count": 169,
   "metadata": {
    "colab": {
     "base_uri": "https://localhost:8080/"
    },
    "id": "AccKFJD5H4nA",
    "outputId": "9ac664d2-8b04-4009-d28d-3d6dcfa67d7b"
   },
   "outputs": [
    {
     "name": "stderr",
     "output_type": "stream",
     "text": [
      "/usr/local/lib/python3.10/dist-packages/torchvision/models/_utils.py:208: UserWarning: The parameter 'pretrained' is deprecated since 0.13 and may be removed in the future, please use 'weights' instead.\n",
      "  warnings.warn(\n",
      "/usr/local/lib/python3.10/dist-packages/torchvision/models/_utils.py:223: UserWarning: Arguments other than a weight enum or `None` for 'weights' are deprecated since 0.13 and may be removed in the future. The current behavior is equivalent to passing `weights=ResNet18_Weights.IMAGENET1K_V1`. You can also use `weights=ResNet18_Weights.DEFAULT` to get the most up-to-date weights.\n",
      "  warnings.warn(msg)\n",
      "<ipython-input-169-2da057386a69>:5: FutureWarning: You are using `torch.load` with `weights_only=False` (the current default value), which uses the default pickle module implicitly. It is possible to construct malicious pickle data which will execute arbitrary code during unpickling (See https://github.com/pytorch/pytorch/blob/main/SECURITY.md#untrusted-models for more details). In a future release, the default value for `weights_only` will be flipped to `True`. This limits the functions that could be executed during unpickling. Arbitrary objects will no longer be allowed to be loaded via this mode unless they are explicitly allowlisted by the user via `torch.serialization.add_safe_globals`. We recommend you start setting `weights_only=True` for any use case where you don't have full control of the loaded file. Please open an issue on GitHub for any issues related to this experimental feature.\n",
      "  model.load_state_dict(torch.load(\"model.pth\"))\n"
     ]
    },
    {
     "name": "stdout",
     "output_type": "stream",
     "text": [
      "---- Testing Folder ----\n",
      "/content/test/3_82.jpg 3 1.000\n",
      "/content/test/2_64.jpg 2 0.999\n",
      "/content/test/3_84.jpg 3 0.995\n",
      "/content/test/0_11.jpg 0 1.000\n",
      "/content/test/0_1.jpg 0 0.996\n",
      "/content/test/1_48.jpg 1 0.731\n",
      "/content/test/3_63.jpg 3 0.926\n",
      "/content/test/0_19.jpg 0 1.000\n",
      "/content/test/1_36.jpg 1 0.999\n",
      "/content/test/2_51.jpg 2 0.963\n",
      "/content/test/1_39.jpg 1 0.998\n",
      "/content/test/1_38.jpg 1 0.970\n",
      "/content/test/0_9.jpg 0 0.990\n",
      "/content/test/2_61.jpg 2 0.982\n",
      "/content/test/3_86.jpg 3 1.000\n",
      "/content/test/3_89.jpg 1 0.776\n",
      "/content/test/0_6.jpg 0 1.000\n",
      "/content/test/1_29.jpg 1 1.000\n",
      "/content/test/1_26.jpg 1 0.999\n",
      "/content/test/3_90.jpg 2 0.815\n",
      "/content/test/2_57.jpg 1 0.998\n",
      "/content/test/0_23.jpg 0 1.000\n",
      "/content/test/1_49.jpg 1 0.999\n",
      "/content/test/1_45.jpg 1 0.816\n",
      "/content/test/3_75.jpg 3 1.000\n",
      "/content/test/3_91.jpg 3 1.000\n",
      "/content/test/0_12.jpg 0 0.999\n",
      "/content/test/0_22.jpg 0 1.000\n",
      "/content/test/0_20.jpg 0 1.000\n",
      "/content/test/2_68.jpg 3 0.930\n",
      "/content/test/0_17.jpg 0 0.975\n",
      "/content/test/0_7.jpg 0 1.000\n",
      "/content/test/0_18.jpg 0 1.000\n",
      "/content/test/2_59.jpg 2 0.999\n",
      "/content/test/0_10.jpg 0 0.999\n",
      "/content/test/3_94.jpg 3 1.000\n",
      "/content/test/1_28.jpg 1 0.951\n",
      "/content/test/1_35.jpg 1 1.000\n",
      "/content/test/1_31.jpg 1 1.000\n",
      "/content/test/3_92.jpg 3 0.981\n",
      "/content/test/0_24.jpg 0 1.000\n",
      "/content/test/2_72.jpg 2 0.999\n",
      "/content/test/3_96.jpg 3 0.999\n",
      "/content/test/3_77.jpg 3 0.812\n",
      "/content/test/3_85.jpg 3 1.000\n",
      "/content/test/1_41.jpg 1 0.991\n",
      "/content/test/1_43.jpg 1 0.995\n",
      "/content/test/1_33.jpg 1 1.000\n",
      "/content/test/1_37.jpg 1 0.999\n",
      "/content/test/3_83.jpg 3 1.000\n",
      "/content/test/0_16.jpg 0 1.000\n",
      "/content/test/2_67.jpg 2 1.000\n",
      "/content/test/0???.jpg 0 0.611\n",
      "/content/test/0_4.jpg 0 1.000\n",
      "/content/test/1_25.jpg 1 0.990\n",
      "/content/test/2_55.jpg 1 0.944\n",
      "/content/test/3_97.jpg 3 0.999\n",
      "/content/test/2_50.jpg 2 0.995\n",
      "/content/test/1_27.jpg 1 1.000\n",
      "/content/test/3_79.jpg 3 0.999\n",
      "/content/test/2_58.jpg 2 0.999\n",
      "/content/test/0_13.jpg 0 1.000\n",
      "/content/test/0_0.jpg 0 1.000\n",
      "/content/test/1_47.jpg 2 0.711\n",
      "/content/test/0_2.jpg 0 1.000\n",
      "/content/test/0_3.jpg 0 1.000\n",
      "/content/test/3_54.jpg 3 0.997\n",
      "/content/test/0_5.jpg 0 1.000\n",
      "/content/test/1_42.jpg 1 0.996\n",
      "/content/test/3_87.jpg 3 0.992\n",
      "/content/test/2_60.jpg 1 0.807\n",
      "/content/test/2_10000.jpg 1 0.921\n",
      "/content/test/1_44.jpg 1 0.983\n",
      "/content/test/2_53.jpg 1 0.981\n",
      "/content/test/2_71.jpg 1 0.531\n",
      "/content/test/2_74.jpg 3 0.539\n",
      "/content/test/1_32.jpg 1 0.994\n",
      "/content/test/1_34.jpg 1 1.000\n",
      "/content/test/0_14.jpg 0 1.000\n",
      "/content/test/2_73.jpg 2 0.994\n",
      "/content/test/3_76.jpg 3 1.000\n",
      "/content/test/2_62.jpg 2 0.548\n",
      "/content/test/3_78.jpg 3 1.000\n",
      "/content/test/3_93.jpg 3 0.924\n",
      "/content/test/1_46.jpg 2 0.999\n",
      "/content/test/0_21.jpg 0 0.986\n",
      "/content/test/3_99.jpg 3 1.000\n",
      "/content/test/2_56.jpg 2 0.992\n",
      "/content/test/3_95.jpg 3 0.984\n",
      "/content/test/0_15.jpg 0 1.000\n",
      "/content/test/2_70.jpg 2 1.000\n",
      "/content/test/1_30.jpg 1 0.977\n",
      "/content/test/3_81.jpg 3 1.000\n",
      "/content/test/0_8.jpg 0 1.000\n",
      "/content/test/2_52.jpg 2 0.992\n",
      "/content/test/3_66.jpg 3 1.000\n",
      "/content/test/3_80.jpg 3 1.000\n",
      "/content/test/3_98.jpg 3 0.968\n",
      "/content/test/1_40.jpg 1 0.917\n",
      "/content/test/2_65.jpg 2 0.821\n",
      "/content/test/3_88.jpg 3 1.000\n",
      "/content/test/2_69.jpg 3 0.900\n",
      "---- Testing Image ----\n",
      "/content/test/0_0.jpg 0 1.000\n",
      "---- Testing Non existing images ----\n",
      "Invalid input path\n"
     ]
    }
   ],
   "source": [
    "# @title Inference Pytorch\n",
    "device = torch.device(\"cuda\" if torch.cuda.is_available() else \"cpu\")\n",
    "\n",
    "model = Model(4)\n",
    "model.load_state_dict(torch.load(\"model.pth\"))\n",
    "model.to(device)\n",
    "model.eval()\n",
    "\n",
    "transform = make_transform(is_train=False)\n",
    "\n",
    "def predict(img_path):\n",
    "    img = Image.open(img_path).convert(\"RGB\")\n",
    "    img = transform(img).unsqueeze(0).to(device)\n",
    "\n",
    "    with torch.no_grad():\n",
    "        output = model(img)\n",
    "        probabilities = torch.nn.functional.softmax(output, dim=1)\n",
    "        predicted_class = torch.argmax(probabilities, dim=1).item()\n",
    "\n",
    "    return predicted_class, probabilities[0][predicted_class].item()\n",
    "\n",
    "def inference(input_path):\n",
    "    if os.path.isdir(input_path):\n",
    "        for filename in os.listdir(input_path):\n",
    "            if filename.endswith(('.png', '.jpg', '.jpeg')):\n",
    "                img_path = os.path.join(input_path, filename)\n",
    "                pred_class, confidence = predict(img_path)\n",
    "                print(f\"{img_path} {pred_class} {confidence:.3f}\")\n",
    "\n",
    "    elif os.path.isfile(input_path):\n",
    "        pred_class, confidence = predict(input_path)\n",
    "        print(f\"{input_path} {pred_class} {confidence:.3f}\")\n",
    "    else:\n",
    "        print(\"Invalid input path\")\n",
    "\n",
    "print('---- Testing Folder ----')\n",
    "input = \"/content/test\"\n",
    "inference(input)\n",
    "print('---- Testing Image ----')\n",
    "input = \"/content/test/0_0.jpg\"\n",
    "inference(input)\n",
    "print('---- Testing Non existing images ----')\n",
    "input = \"/content/test/0.jpg\"\n",
    "inference(input)"
   ]
  },
  {
   "cell_type": "code",
   "execution_count": 170,
   "metadata": {
    "colab": {
     "base_uri": "https://localhost:8080/"
    },
    "id": "SmPSFDA5Odpp",
    "outputId": "421a55db-786a-4011-936b-e38c8eb6ee55"
   },
   "outputs": [
    {
     "name": "stderr",
     "output_type": "stream",
     "text": [
      "<ipython-input-170-25d4f4c1db5d>:3: FutureWarning: You are using `torch.load` with `weights_only=False` (the current default value), which uses the default pickle module implicitly. It is possible to construct malicious pickle data which will execute arbitrary code during unpickling (See https://github.com/pytorch/pytorch/blob/main/SECURITY.md#untrusted-models for more details). In a future release, the default value for `weights_only` will be flipped to `True`. This limits the functions that could be executed during unpickling. Arbitrary objects will no longer be allowed to be loaded via this mode unless they are explicitly allowlisted by the user via `torch.serialization.add_safe_globals`. We recommend you start setting `weights_only=True` for any use case where you don't have full control of the loaded file. Please open an issue on GitHub for any issues related to this experimental feature.\n",
      "  model.load_state_dict(torch.load(\"model.pth\"))\n",
      "/usr/local/lib/python3.10/dist-packages/torch/onnx/_internal/_exporter_legacy.py:116: UserWarning: torch.onnx.dynamo_export only implements opset version 18 for now. If you need to use a different opset version, please register them with register_custom_op.\n",
      "  warnings.warn(\n",
      "/usr/local/lib/python3.10/dist-packages/torch/onnx/_internal/fx/passes/readability.py:52: UserWarning: Attempted to insert a get_attr Node with no underlying reference in the owning GraphModule! Call GraphModule.add_submodule to add the necessary submodule, GraphModule.add_parameter to add the necessary Parameter, or nn.Module.register_buffer to add the necessary buffer\n",
      "  new_node = self.module.graph.get_attr(normalized_name)\n",
      "/usr/local/lib/python3.10/dist-packages/torch/fx/graph.py:1586: UserWarning: Node network_bn1_running_mean target network/bn1/running_mean network/bn1/running_mean of  does not reference an nn.Module, nn.Parameter, or buffer, which is what 'get_attr' Nodes typically target\n",
      "  warnings.warn(f'Node {node} target {node.target} {atom} of {seen_qualname} does '\n",
      "/usr/local/lib/python3.10/dist-packages/torch/fx/graph.py:1586: UserWarning: Node network_bn1_running_var target network/bn1/running_var network/bn1/running_var of  does not reference an nn.Module, nn.Parameter, or buffer, which is what 'get_attr' Nodes typically target\n",
      "  warnings.warn(f'Node {node} target {node.target} {atom} of {seen_qualname} does '\n",
      "/usr/local/lib/python3.10/dist-packages/torch/fx/graph.py:1586: UserWarning: Node network_layer1_0_bn1_running_mean target network/layer1/0/bn1/running_mean network/layer1/0/bn1/running_mean of  does not reference an nn.Module, nn.Parameter, or buffer, which is what 'get_attr' Nodes typically target\n",
      "  warnings.warn(f'Node {node} target {node.target} {atom} of {seen_qualname} does '\n",
      "/usr/local/lib/python3.10/dist-packages/torch/fx/graph.py:1586: UserWarning: Node network_layer1_0_bn1_running_var target network/layer1/0/bn1/running_var network/layer1/0/bn1/running_var of  does not reference an nn.Module, nn.Parameter, or buffer, which is what 'get_attr' Nodes typically target\n",
      "  warnings.warn(f'Node {node} target {node.target} {atom} of {seen_qualname} does '\n",
      "/usr/local/lib/python3.10/dist-packages/torch/fx/graph.py:1586: UserWarning: Node network_layer1_0_bn2_running_mean target network/layer1/0/bn2/running_mean network/layer1/0/bn2/running_mean of  does not reference an nn.Module, nn.Parameter, or buffer, which is what 'get_attr' Nodes typically target\n",
      "  warnings.warn(f'Node {node} target {node.target} {atom} of {seen_qualname} does '\n",
      "/usr/local/lib/python3.10/dist-packages/torch/fx/graph.py:1593: UserWarning: Additional 35 warnings suppressed about get_attr references\n",
      "  warnings.warn(\n"
     ]
    }
   ],
   "source": [
    "# @title Convert Pytorch model to ONNX\n",
    "model=Model(4).to(device)\n",
    "model.load_state_dict(torch.load(\"model.pth\"))\n",
    "model.eval()\n",
    "torch_input = torch.randn(1, 3, 224, 224).to(device)\n",
    "\n",
    "onnx_program = torch.onnx.dynamo_export(model, torch_input)\n",
    "onnx_program.save(\"model_onnx.onnx\")"
   ]
  },
  {
   "cell_type": "code",
   "execution_count": 171,
   "metadata": {
    "id": "8xjm-XX9OgAj"
   },
   "outputs": [],
   "source": [
    "# @title Load ONNX model\n",
    "onnx_model = onnx.load(\"model_onnx.onnx\")\n",
    "onnx.checker.check_model(onnx_model)"
   ]
  },
  {
   "cell_type": "code",
   "execution_count": 172,
   "metadata": {
    "colab": {
     "base_uri": "https://localhost:8080/"
    },
    "id": "AoMP9j7CQUSS",
    "outputId": "9d2d6b6c-86ae-40eb-f9c9-2d4fd3cb701b"
   },
   "outputs": [
    {
     "name": "stdout",
     "output_type": "stream",
     "text": [
      "---- Testing Folder ----\n",
      "/content/test/3_82.jpg 3 1.000\n",
      "/content/test/2_64.jpg 2 0.999\n",
      "/content/test/3_84.jpg 3 0.995\n",
      "/content/test/0_11.jpg 0 1.000\n",
      "/content/test/0_1.jpg 0 0.996\n",
      "/content/test/1_48.jpg 1 0.731\n",
      "/content/test/3_63.jpg 3 0.926\n",
      "/content/test/0_19.jpg 0 1.000\n",
      "/content/test/1_36.jpg 1 0.999\n",
      "/content/test/2_51.jpg 2 0.963\n",
      "/content/test/1_39.jpg 1 0.998\n",
      "/content/test/1_38.jpg 1 0.970\n",
      "/content/test/0_9.jpg 0 0.990\n",
      "/content/test/2_61.jpg 2 0.982\n",
      "/content/test/3_86.jpg 3 1.000\n",
      "/content/test/3_89.jpg 1 0.776\n",
      "/content/test/0_6.jpg 0 1.000\n",
      "/content/test/1_29.jpg 1 1.000\n",
      "/content/test/1_26.jpg 1 0.999\n",
      "/content/test/3_90.jpg 2 0.815\n",
      "/content/test/2_57.jpg 1 0.998\n",
      "/content/test/0_23.jpg 0 1.000\n",
      "/content/test/1_49.jpg 1 0.999\n",
      "/content/test/1_45.jpg 1 0.816\n",
      "/content/test/3_75.jpg 3 1.000\n",
      "/content/test/3_91.jpg 3 1.000\n",
      "/content/test/0_12.jpg 0 0.999\n",
      "/content/test/0_22.jpg 0 1.000\n",
      "/content/test/0_20.jpg 0 1.000\n",
      "/content/test/2_68.jpg 3 0.930\n",
      "/content/test/0_17.jpg 0 0.975\n",
      "/content/test/0_7.jpg 0 1.000\n",
      "/content/test/0_18.jpg 0 1.000\n",
      "/content/test/2_59.jpg 2 0.999\n",
      "/content/test/0_10.jpg 0 0.999\n",
      "/content/test/3_94.jpg 3 1.000\n",
      "/content/test/1_28.jpg 1 0.951\n",
      "/content/test/1_35.jpg 1 1.000\n",
      "/content/test/1_31.jpg 1 1.000\n",
      "/content/test/3_92.jpg 3 0.981\n",
      "/content/test/0_24.jpg 0 1.000\n",
      "/content/test/2_72.jpg 2 0.999\n",
      "/content/test/3_96.jpg 3 0.999\n",
      "/content/test/3_77.jpg 3 0.812\n",
      "/content/test/3_85.jpg 3 1.000\n",
      "/content/test/1_41.jpg 1 0.991\n",
      "/content/test/1_43.jpg 1 0.995\n",
      "/content/test/1_33.jpg 1 1.000\n",
      "/content/test/1_37.jpg 1 0.999\n",
      "/content/test/3_83.jpg 3 1.000\n",
      "/content/test/0_16.jpg 0 1.000\n",
      "/content/test/2_67.jpg 2 1.000\n",
      "/content/test/0???.jpg 0 0.611\n",
      "/content/test/0_4.jpg 0 1.000\n",
      "/content/test/1_25.jpg 1 0.990\n",
      "/content/test/2_55.jpg 1 0.944\n",
      "/content/test/3_97.jpg 3 0.999\n",
      "/content/test/2_50.jpg 2 0.995\n",
      "/content/test/1_27.jpg 1 1.000\n",
      "/content/test/3_79.jpg 3 0.999\n",
      "/content/test/2_58.jpg 2 0.999\n",
      "/content/test/0_13.jpg 0 1.000\n",
      "/content/test/0_0.jpg 0 1.000\n",
      "/content/test/1_47.jpg 2 0.711\n",
      "/content/test/0_2.jpg 0 1.000\n",
      "/content/test/0_3.jpg 0 1.000\n",
      "/content/test/3_54.jpg 3 0.997\n",
      "/content/test/0_5.jpg 0 1.000\n",
      "/content/test/1_42.jpg 1 0.996\n",
      "/content/test/3_87.jpg 3 0.992\n",
      "/content/test/2_60.jpg 1 0.807\n",
      "/content/test/2_10000.jpg 1 0.921\n",
      "/content/test/1_44.jpg 1 0.983\n",
      "/content/test/2_53.jpg 1 0.981\n",
      "/content/test/2_71.jpg 1 0.531\n",
      "/content/test/2_74.jpg 3 0.539\n",
      "/content/test/1_32.jpg 1 0.994\n",
      "/content/test/1_34.jpg 1 1.000\n",
      "/content/test/0_14.jpg 0 1.000\n",
      "/content/test/2_73.jpg 2 0.994\n",
      "/content/test/3_76.jpg 3 1.000\n",
      "/content/test/2_62.jpg 2 0.548\n",
      "/content/test/3_78.jpg 3 1.000\n",
      "/content/test/3_93.jpg 3 0.924\n",
      "/content/test/1_46.jpg 2 0.999\n",
      "/content/test/0_21.jpg 0 0.986\n",
      "/content/test/3_99.jpg 3 1.000\n",
      "/content/test/2_56.jpg 2 0.992\n",
      "/content/test/3_95.jpg 3 0.984\n",
      "/content/test/0_15.jpg 0 1.000\n",
      "/content/test/2_70.jpg 2 1.000\n",
      "/content/test/1_30.jpg 1 0.977\n",
      "/content/test/3_81.jpg 3 1.000\n",
      "/content/test/0_8.jpg 0 1.000\n",
      "/content/test/2_52.jpg 2 0.992\n",
      "/content/test/3_66.jpg 3 1.000\n",
      "/content/test/3_80.jpg 3 1.000\n",
      "/content/test/3_98.jpg 3 0.968\n",
      "/content/test/1_40.jpg 1 0.917\n",
      "/content/test/2_65.jpg 2 0.821\n",
      "/content/test/3_88.jpg 3 1.000\n",
      "/content/test/2_69.jpg 3 0.900\n",
      "---- Testing Image ----\n",
      "/content/test/0_0.jpg 0 1.000\n",
      "---- Testing Non existing images ----\n",
      "Invalid input path\n"
     ]
    }
   ],
   "source": [
    "# @title Inference ONNX\n",
    "def to_numpy(tensor):\n",
    "    return tensor.detach().cpu().numpy() if tensor.requires_grad else tensor.cpu().numpy()\n",
    "\n",
    "ort_session = onnxruntime.InferenceSession(\"model_onnx.onnx\", providers=['CPUExecutionProvider'])\n",
    "\n",
    "def onnx_predict(image_path):\n",
    "    image = Image.open(image_path).convert(\"RGB\")\n",
    "    input_tensor = transform(image).unsqueeze(0)\n",
    "\n",
    "    onnx_input = {ort_session.get_inputs()[0].name: to_numpy(input_tensor)}\n",
    "\n",
    "    onnx_outputs = ort_session.run(None, onnx_input)\n",
    "\n",
    "    prediction = np.argmax(onnx_outputs[0])\n",
    "    confidence = np.max(onnx_outputs[0])\n",
    "\n",
    "    return prediction, confidence\n",
    "\n",
    "def inference(input_path):\n",
    "    if os.path.isdir(input_path):\n",
    "        for filename in os.listdir(input_path):\n",
    "            if filename.endswith(('.png', '.jpg', '.jpeg')):\n",
    "                img_path = os.path.join(input_path, filename)\n",
    "                pred_class, confidence = predict(img_path)\n",
    "                print(f\"{img_path} {pred_class} {confidence:.3f}\")\n",
    "\n",
    "    elif os.path.isfile(input_path):\n",
    "        pred_class, confidence = predict(input_path)\n",
    "        print(f\"{input_path} {pred_class} {confidence:.3f}\")\n",
    "    else:\n",
    "        print(\"Invalid input path\")\n",
    "\n",
    "\n",
    "print('---- Testing Folder ----')\n",
    "input = \"/content/test\"\n",
    "inference(input)\n",
    "print('---- Testing Image ----')\n",
    "input = \"/content/test/0_0.jpg\"\n",
    "inference(input)\n",
    "print('---- Testing Non existing images ----')\n",
    "input = \"/content/test/0.jpg\"\n",
    "inference(input)"
   ]
  }
 ],
 "metadata": {
  "accelerator": "GPU",
  "colab": {
   "gpuType": "T4",
   "provenance": []
  },
  "kernelspec": {
   "display_name": "Python 3",
   "name": "python3"
  },
  "language_info": {
   "name": "python"
  },
  "widgets": {
   "application/vnd.jupyter.widget-state+json": {
    "3000b8568ef14a20afeac9a7666d78ea": {
     "model_module": "@jupyter-widgets/controls",
     "model_module_version": "1.5.0",
     "model_name": "VBoxModel",
     "state": {
      "_dom_classes": [],
      "_model_module": "@jupyter-widgets/controls",
      "_model_module_version": "1.5.0",
      "_model_name": "VBoxModel",
      "_view_count": null,
      "_view_module": "@jupyter-widgets/controls",
      "_view_module_version": "1.5.0",
      "_view_name": "VBoxView",
      "box_style": "",
      "children": [
       "IPY_MODEL_54f66604b45a407c8c6230256b070821",
       "IPY_MODEL_6dcaaa89efc5465cab12f8286f4be8d9"
      ],
      "layout": "IPY_MODEL_93ac7d2d7cea4a739ade87455315611e"
     }
    },
    "529eaa25bb904a50aeb7edba4c917b50": {
     "model_module": "@jupyter-widgets/base",
     "model_module_version": "1.2.0",
     "model_name": "LayoutModel",
     "state": {
      "_model_module": "@jupyter-widgets/base",
      "_model_module_version": "1.2.0",
      "_model_name": "LayoutModel",
      "_view_count": null,
      "_view_module": "@jupyter-widgets/base",
      "_view_module_version": "1.2.0",
      "_view_name": "LayoutView",
      "align_content": null,
      "align_items": null,
      "align_self": null,
      "border": null,
      "bottom": null,
      "display": null,
      "flex": null,
      "flex_flow": null,
      "grid_area": null,
      "grid_auto_columns": null,
      "grid_auto_flow": null,
      "grid_auto_rows": null,
      "grid_column": null,
      "grid_gap": null,
      "grid_row": null,
      "grid_template_areas": null,
      "grid_template_columns": null,
      "grid_template_rows": null,
      "height": null,
      "justify_content": null,
      "justify_items": null,
      "left": null,
      "margin": null,
      "max_height": null,
      "max_width": null,
      "min_height": null,
      "min_width": null,
      "object_fit": null,
      "object_position": null,
      "order": null,
      "overflow": null,
      "overflow_x": null,
      "overflow_y": null,
      "padding": null,
      "right": null,
      "top": null,
      "visibility": null,
      "width": null
     }
    },
    "54f66604b45a407c8c6230256b070821": {
     "model_module": "@jupyter-widgets/controls",
     "model_module_version": "1.5.0",
     "model_name": "LabelModel",
     "state": {
      "_dom_classes": [],
      "_model_module": "@jupyter-widgets/controls",
      "_model_module_version": "1.5.0",
      "_model_name": "LabelModel",
      "_view_count": null,
      "_view_module": "@jupyter-widgets/controls",
      "_view_module_version": "1.5.0",
      "_view_name": "LabelView",
      "description": "",
      "description_tooltip": null,
      "layout": "IPY_MODEL_529eaa25bb904a50aeb7edba4c917b50",
      "placeholder": "​",
      "style": "IPY_MODEL_d9120e3c649342d48ca9a99b8126a10a",
      "value": "0.011 MB of 0.011 MB uploaded\r"
     }
    },
    "5646ca633d944f90a04f20a6447f7130": {
     "model_module": "@jupyter-widgets/controls",
     "model_module_version": "1.5.0",
     "model_name": "ProgressStyleModel",
     "state": {
      "_model_module": "@jupyter-widgets/controls",
      "_model_module_version": "1.5.0",
      "_model_name": "ProgressStyleModel",
      "_view_count": null,
      "_view_module": "@jupyter-widgets/base",
      "_view_module_version": "1.2.0",
      "_view_name": "StyleView",
      "bar_color": null,
      "description_width": ""
     }
    },
    "6dcaaa89efc5465cab12f8286f4be8d9": {
     "model_module": "@jupyter-widgets/controls",
     "model_module_version": "1.5.0",
     "model_name": "FloatProgressModel",
     "state": {
      "_dom_classes": [],
      "_model_module": "@jupyter-widgets/controls",
      "_model_module_version": "1.5.0",
      "_model_name": "FloatProgressModel",
      "_view_count": null,
      "_view_module": "@jupyter-widgets/controls",
      "_view_module_version": "1.5.0",
      "_view_name": "ProgressView",
      "bar_style": "",
      "description": "",
      "description_tooltip": null,
      "layout": "IPY_MODEL_8a5264f7afa44004a66b71f284df765e",
      "max": 1,
      "min": 0,
      "orientation": "horizontal",
      "style": "IPY_MODEL_5646ca633d944f90a04f20a6447f7130",
      "value": 1
     }
    },
    "8a5264f7afa44004a66b71f284df765e": {
     "model_module": "@jupyter-widgets/base",
     "model_module_version": "1.2.0",
     "model_name": "LayoutModel",
     "state": {
      "_model_module": "@jupyter-widgets/base",
      "_model_module_version": "1.2.0",
      "_model_name": "LayoutModel",
      "_view_count": null,
      "_view_module": "@jupyter-widgets/base",
      "_view_module_version": "1.2.0",
      "_view_name": "LayoutView",
      "align_content": null,
      "align_items": null,
      "align_self": null,
      "border": null,
      "bottom": null,
      "display": null,
      "flex": null,
      "flex_flow": null,
      "grid_area": null,
      "grid_auto_columns": null,
      "grid_auto_flow": null,
      "grid_auto_rows": null,
      "grid_column": null,
      "grid_gap": null,
      "grid_row": null,
      "grid_template_areas": null,
      "grid_template_columns": null,
      "grid_template_rows": null,
      "height": null,
      "justify_content": null,
      "justify_items": null,
      "left": null,
      "margin": null,
      "max_height": null,
      "max_width": null,
      "min_height": null,
      "min_width": null,
      "object_fit": null,
      "object_position": null,
      "order": null,
      "overflow": null,
      "overflow_x": null,
      "overflow_y": null,
      "padding": null,
      "right": null,
      "top": null,
      "visibility": null,
      "width": null
     }
    },
    "93ac7d2d7cea4a739ade87455315611e": {
     "model_module": "@jupyter-widgets/base",
     "model_module_version": "1.2.0",
     "model_name": "LayoutModel",
     "state": {
      "_model_module": "@jupyter-widgets/base",
      "_model_module_version": "1.2.0",
      "_model_name": "LayoutModel",
      "_view_count": null,
      "_view_module": "@jupyter-widgets/base",
      "_view_module_version": "1.2.0",
      "_view_name": "LayoutView",
      "align_content": null,
      "align_items": null,
      "align_self": null,
      "border": null,
      "bottom": null,
      "display": null,
      "flex": null,
      "flex_flow": null,
      "grid_area": null,
      "grid_auto_columns": null,
      "grid_auto_flow": null,
      "grid_auto_rows": null,
      "grid_column": null,
      "grid_gap": null,
      "grid_row": null,
      "grid_template_areas": null,
      "grid_template_columns": null,
      "grid_template_rows": null,
      "height": null,
      "justify_content": null,
      "justify_items": null,
      "left": null,
      "margin": null,
      "max_height": null,
      "max_width": null,
      "min_height": null,
      "min_width": null,
      "object_fit": null,
      "object_position": null,
      "order": null,
      "overflow": null,
      "overflow_x": null,
      "overflow_y": null,
      "padding": null,
      "right": null,
      "top": null,
      "visibility": null,
      "width": null
     }
    },
    "d9120e3c649342d48ca9a99b8126a10a": {
     "model_module": "@jupyter-widgets/controls",
     "model_module_version": "1.5.0",
     "model_name": "DescriptionStyleModel",
     "state": {
      "_model_module": "@jupyter-widgets/controls",
      "_model_module_version": "1.5.0",
      "_model_name": "DescriptionStyleModel",
      "_view_count": null,
      "_view_module": "@jupyter-widgets/base",
      "_view_module_version": "1.2.0",
      "_view_name": "StyleView",
      "description_width": ""
     }
    }
   }
  }
 },
 "nbformat": 4,
 "nbformat_minor": 0
}
